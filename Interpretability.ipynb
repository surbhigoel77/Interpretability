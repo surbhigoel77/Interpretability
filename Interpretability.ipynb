{
 "cells": [
  {
   "cell_type": "markdown",
   "id": "a9f2d09b-7f96-43cc-91e3-0b6a3c0c4f56",
   "metadata": {},
   "source": [
    "Task 1: Build and analyse the performance of multiple ML models (15%)\n",
    "\n",
    "Task 2: Interpret your models (20%)\n",
    "\n",
    "Task 3: Error analysis (30%)\n",
    "\n",
    "Task 4: What-if? (15%)\n",
    "\n",
    "Task 5: Insightful documentation for the dataset and your most fair model (20%)"
   ]
  },
  {
   "cell_type": "markdown",
   "id": "c3a15272-49f1-469e-a8f8-916fc5fce953",
   "metadata": {},
   "source": [
    "#### To build a credit score application, we want to make sure first that \n",
    "- they understand the dataset well, \n",
    "- the models it leads to, and \n",
    "- the potential biases.\n",
    "\n",
    "\n",
    " - The idea is to analyse potential biases caused by different variables that reflects on the income of people, as credit score is highly based on income-band of people.\n",
    " \n",
    "- Method 1: Analyse the exact available data without any manipulation\n",
    " 1. Check the amount of data available for each of the protected categories in the dataset.\n",
    " 2. Check how different protected variables share a consistent strong correlation with income-band.\n",
    " \n",
    "- Method 2: Manipulate the data with various pluasible ideal version of datasets\n",
    " 1. Check if removing certain protected features makes a positive or negative difference to the income band people lie in as comapared to inculsion of the varibles"
   ]
  },
  {
   "cell_type": "code",
   "execution_count": 12,
   "id": "6f60daa7-f2a8-4feb-afe1-a9c64b4d05ad",
   "metadata": {},
   "outputs": [],
   "source": [
    "import pandas as pd\n",
    "import numpy as np\n",
    "from sklearn.model_selection import train_test_split\n",
    "import seaborn as sns\n",
    "from matplotlib import pyplot as plt"
   ]
  },
  {
   "cell_type": "code",
   "execution_count": 157,
   "id": "8ef490f1-cf2a-4261-b5b4-69c90c841d8b",
   "metadata": {},
   "outputs": [
    {
     "data": {
      "text/html": [
       "<div>\n",
       "<style scoped>\n",
       "    .dataframe tbody tr th:only-of-type {\n",
       "        vertical-align: middle;\n",
       "    }\n",
       "\n",
       "    .dataframe tbody tr th {\n",
       "        vertical-align: top;\n",
       "    }\n",
       "\n",
       "    .dataframe thead th {\n",
       "        text-align: right;\n",
       "    }\n",
       "</style>\n",
       "<table border=\"1\" class=\"dataframe\">\n",
       "  <thead>\n",
       "    <tr style=\"text-align: right;\">\n",
       "      <th></th>\n",
       "      <th>Age</th>\n",
       "      <th>Workclass</th>\n",
       "      <th>fnlwgt</th>\n",
       "      <th>Education</th>\n",
       "      <th>Education_num</th>\n",
       "      <th>Marital_status</th>\n",
       "      <th>Occupation</th>\n",
       "      <th>Relationship</th>\n",
       "      <th>Race</th>\n",
       "      <th>Sex</th>\n",
       "      <th>Capital_gain</th>\n",
       "      <th>Capital_loss</th>\n",
       "      <th>Hours_per_week</th>\n",
       "      <th>Native_country</th>\n",
       "      <th>Income_band</th>\n",
       "    </tr>\n",
       "  </thead>\n",
       "  <tbody>\n",
       "    <tr>\n",
       "      <th>0</th>\n",
       "      <td>39</td>\n",
       "      <td>State-gov</td>\n",
       "      <td>77516</td>\n",
       "      <td>Bachelors</td>\n",
       "      <td>13</td>\n",
       "      <td>Never-married</td>\n",
       "      <td>Adm-clerical</td>\n",
       "      <td>Not-in-family</td>\n",
       "      <td>White</td>\n",
       "      <td>Male</td>\n",
       "      <td>2174</td>\n",
       "      <td>0</td>\n",
       "      <td>40</td>\n",
       "      <td>United-States</td>\n",
       "      <td>&lt;=50K</td>\n",
       "    </tr>\n",
       "    <tr>\n",
       "      <th>1</th>\n",
       "      <td>50</td>\n",
       "      <td>Self-emp-not-inc</td>\n",
       "      <td>83311</td>\n",
       "      <td>Bachelors</td>\n",
       "      <td>13</td>\n",
       "      <td>Married-civ-spouse</td>\n",
       "      <td>Exec-managerial</td>\n",
       "      <td>Husband</td>\n",
       "      <td>White</td>\n",
       "      <td>Male</td>\n",
       "      <td>0</td>\n",
       "      <td>0</td>\n",
       "      <td>13</td>\n",
       "      <td>United-States</td>\n",
       "      <td>&lt;=50K</td>\n",
       "    </tr>\n",
       "    <tr>\n",
       "      <th>2</th>\n",
       "      <td>38</td>\n",
       "      <td>Private</td>\n",
       "      <td>215646</td>\n",
       "      <td>HS-grad</td>\n",
       "      <td>9</td>\n",
       "      <td>Divorced</td>\n",
       "      <td>Handlers-cleaners</td>\n",
       "      <td>Not-in-family</td>\n",
       "      <td>White</td>\n",
       "      <td>Male</td>\n",
       "      <td>0</td>\n",
       "      <td>0</td>\n",
       "      <td>40</td>\n",
       "      <td>United-States</td>\n",
       "      <td>&lt;=50K</td>\n",
       "    </tr>\n",
       "    <tr>\n",
       "      <th>3</th>\n",
       "      <td>53</td>\n",
       "      <td>Private</td>\n",
       "      <td>234721</td>\n",
       "      <td>11th</td>\n",
       "      <td>7</td>\n",
       "      <td>Married-civ-spouse</td>\n",
       "      <td>Handlers-cleaners</td>\n",
       "      <td>Husband</td>\n",
       "      <td>Black</td>\n",
       "      <td>Male</td>\n",
       "      <td>0</td>\n",
       "      <td>0</td>\n",
       "      <td>40</td>\n",
       "      <td>United-States</td>\n",
       "      <td>&lt;=50K</td>\n",
       "    </tr>\n",
       "    <tr>\n",
       "      <th>4</th>\n",
       "      <td>28</td>\n",
       "      <td>Private</td>\n",
       "      <td>338409</td>\n",
       "      <td>Bachelors</td>\n",
       "      <td>13</td>\n",
       "      <td>Married-civ-spouse</td>\n",
       "      <td>Prof-specialty</td>\n",
       "      <td>Wife</td>\n",
       "      <td>Black</td>\n",
       "      <td>Female</td>\n",
       "      <td>0</td>\n",
       "      <td>0</td>\n",
       "      <td>40</td>\n",
       "      <td>Cuba</td>\n",
       "      <td>&lt;=50K</td>\n",
       "    </tr>\n",
       "  </tbody>\n",
       "</table>\n",
       "</div>"
      ],
      "text/plain": [
       "   Age         Workclass  fnlwgt  Education  Education_num  \\\n",
       "0   39         State-gov   77516  Bachelors             13   \n",
       "1   50  Self-emp-not-inc   83311  Bachelors             13   \n",
       "2   38           Private  215646    HS-grad              9   \n",
       "3   53           Private  234721       11th              7   \n",
       "4   28           Private  338409  Bachelors             13   \n",
       "\n",
       "       Marital_status         Occupation   Relationship   Race     Sex  \\\n",
       "0       Never-married       Adm-clerical  Not-in-family  White    Male   \n",
       "1  Married-civ-spouse    Exec-managerial        Husband  White    Male   \n",
       "2            Divorced  Handlers-cleaners  Not-in-family  White    Male   \n",
       "3  Married-civ-spouse  Handlers-cleaners        Husband  Black    Male   \n",
       "4  Married-civ-spouse     Prof-specialty           Wife  Black  Female   \n",
       "\n",
       "   Capital_gain  Capital_loss  Hours_per_week Native_country Income_band  \n",
       "0          2174             0              40  United-States       <=50K  \n",
       "1             0             0              13  United-States       <=50K  \n",
       "2             0             0              40  United-States       <=50K  \n",
       "3             0             0              40  United-States       <=50K  \n",
       "4             0             0              40           Cuba       <=50K  "
      ]
     },
     "execution_count": 157,
     "metadata": {},
     "output_type": "execute_result"
    }
   ],
   "source": [
    "Labels = ['Age','Workclass','fnlwgt','Education','Education_num','Marital_status','Occupation','Relationship','Race','Sex',\n",
    "          'Capital_gain','Capital_loss','Hours_per_week','Native_country','Income_band']\n",
    "\n",
    "path   =  \"/Users/alvis/Downloads/adult.data\"\n",
    "\n",
    "data = pd.read_csv(path, names = Labels, skipinitialspace=True) \n",
    "data.head()"
   ]
  },
  {
   "cell_type": "markdown",
   "id": "b100458d-932b-4692-9f5c-8dda03ac7dac",
   "metadata": {},
   "source": [
    "Side Note: \n",
    "    1. The gender category contains only 2 genders. (could be because the data collected is from 1996 or older. Other genders were not considered mainstream)\n",
    "   "
   ]
  },
  {
   "cell_type": "code",
   "execution_count": 195,
   "id": "413afd6b-62f5-4c62-a8d9-6d4eda59fb09",
   "metadata": {},
   "outputs": [],
   "source": [
    "adult_data = data.drop(\"Education\", axis=1)"
   ]
  },
  {
   "cell_type": "markdown",
   "id": "fe398f7d-0d86-442c-a6a5-c01a0f56acae",
   "metadata": {},
   "source": [
    "#### Step 1: Data Preprocesing\n",
    "\n",
    "- Check for outliers.\n",
    "- Check for missing values.\n",
    "- Instead of dropping missing values, we would mask the missing values to avoid losing any hidden information.\n"
   ]
  },
  {
   "cell_type": "code",
   "execution_count": 189,
   "id": "d9e41fca-e227-44c7-89c8-13b8bbd73344",
   "metadata": {},
   "outputs": [
    {
     "name": "stdout",
     "output_type": "stream",
     "text": [
      "<class 'pandas.core.frame.DataFrame'>\n",
      "RangeIndex: 32561 entries, 0 to 32560\n",
      "Data columns (total 14 columns):\n",
      " #   Column          Non-Null Count  Dtype \n",
      "---  ------          --------------  ----- \n",
      " 0   Age             32561 non-null  int64 \n",
      " 1   Workclass       32561 non-null  object\n",
      " 2   fnlwgt          32561 non-null  int64 \n",
      " 3   Education_num   32561 non-null  int64 \n",
      " 4   Marital_status  32561 non-null  object\n",
      " 5   Occupation      32561 non-null  object\n",
      " 6   Relationship    32561 non-null  object\n",
      " 7   Race            32561 non-null  object\n",
      " 8   Sex             32561 non-null  object\n",
      " 9   Capital_gain    32561 non-null  int64 \n",
      " 10  Capital_loss    32561 non-null  int64 \n",
      " 11  Hours_per_week  32561 non-null  int64 \n",
      " 12  Native_country  32561 non-null  object\n",
      " 13  Income_band     32561 non-null  object\n",
      "dtypes: int64(6), object(8)\n",
      "memory usage: 3.5+ MB\n"
     ]
    }
   ],
   "source": [
    "adult_data.info()"
   ]
  },
  {
   "cell_type": "code",
   "execution_count": 169,
   "id": "cb4bf7ed-362a-46f6-abaa-c0d5d9f9ab08",
   "metadata": {},
   "outputs": [
    {
     "name": "stdout",
     "output_type": "stream",
     "text": [
      "Unique Income_band values are: ['<=50K' '>50K']\n",
      "\n",
      "Unique Workclass values are: ['State-gov' 'Self-emp-not-inc' 'Private' 'Federal-gov' 'Local-gov' '?'\n",
      " 'Self-emp-inc' 'Without-pay' 'Never-worked']\n",
      "\n",
      "Unique Marital_status values are: ['Never-married' 'Married-civ-spouse' 'Divorced' 'Married-spouse-absent'\n",
      " 'Separated' 'Married-AF-spouse' 'Widowed']\n",
      "\n",
      "Unique Occupation values are: ['Adm-clerical' 'Exec-managerial' 'Handlers-cleaners' 'Prof-specialty'\n",
      " 'Other-service' 'Sales' 'Craft-repair' 'Transport-moving'\n",
      " 'Farming-fishing' 'Machine-op-inspct' 'Tech-support' '?'\n",
      " 'Protective-serv' 'Armed-Forces' 'Priv-house-serv']\n",
      "\n",
      "Unique Relationship values are: ['Not-in-family' 'Husband' 'Wife' 'Own-child' 'Unmarried' 'Other-relative']\n",
      "\n",
      "Unique Race values are: ['White' 'Black' 'Asian-Pac-Islander' 'Amer-Indian-Eskimo' 'Other']\n",
      "\n",
      "Unique Sex values are: ['Male' 'Female']\n",
      "\n",
      "Unique Native_country values are: ['United-States' 'Cuba' 'Jamaica' 'India' '?' 'Mexico' 'South'\n",
      " 'Puerto-Rico' 'Honduras' 'England' 'Canada' 'Germany' 'Iran'\n",
      " 'Philippines' 'Italy' 'Poland' 'Columbia' 'Cambodia' 'Thailand' 'Ecuador'\n",
      " 'Laos' 'Taiwan' 'Haiti' 'Portugal' 'Dominican-Republic' 'El-Salvador'\n",
      " 'France' 'Guatemala' 'China' 'Japan' 'Yugoslavia' 'Peru'\n",
      " 'Outlying-US(Guam-USVI-etc)' 'Scotland' 'Trinadad&Tobago' 'Greece'\n",
      " 'Nicaragua' 'Vietnam' 'Hong' 'Ireland' 'Hungary' 'Holand-Netherlands']\n"
     ]
    }
   ],
   "source": [
    "# Find unique values of all categorical features:\n",
    "\n",
    "print(f'Unique Income_band values are: {adult_data.Income_band.unique()}\\n')\n",
    "print(f'Unique Workclass values are: {adult_data.Workclass.unique()}\\n')\n",
    "print(f'Unique Marital_status values are: {adult_data.Marital_status.unique()}\\n')\n",
    "print(f'Unique Occupation values are: {adult_data.Occupation.unique()}\\n')\n",
    "print(f'Unique Relationship values are: {adult_data.Relationship.unique()}\\n')\n",
    "print(f'Unique Race values are: {adult_data.Race.unique()}\\n')\n",
    "print(f'Unique Sex values are: {adult_data.Sex.unique()}\\n')\n",
    "print(f'Unique Native_country values are: {adult_data.Native_country.unique()}')\n"
   ]
  },
  {
   "cell_type": "markdown",
   "id": "28b47b4f-cb32-4e26-b069-7365070d108e",
   "metadata": {},
   "source": [
    "- By looking at other values, we notice that Workclass have a value '?' which is considered to be as 'Native_origin not known.'\n",
    "- Native_origin have odd values like - '?', 'South', 'Hong'\n",
    "- In Relationship values, there is 'unmarried' which seems like an odd value\n"
   ]
  },
  {
   "cell_type": "markdown",
   "id": "c8f4db96-b312-4133-9e4d-c38b17c8f80c",
   "metadata": {},
   "source": [
    "### Recast the varible values which have almost similar categories that do not contribute much to our study when studies individually.\n",
    "\n",
    "From above, we can see that there are many values in each variable, that can be clubbed together to see a clearer impact of bias in our data.\n",
    "This classification again, can still hold some bias of the individual defining these classes,but since we are grouping with the intention of identifying biases in the society, we assume that the bias in the grouping is unimportant for now.\n",
    "\n",
    "We do recasting for variables we feel are sensitive - Race, Sex, Native-country,.\n",
    "\n",
    "\n",
    "\n",
    "Reference: World Bank List  of economies 2022\n",
    "\n",
    "1. High-Income : United States, Europe, Central Asia (United-States, Germany, ireland, italy, canada, Puerto-Rico, Japan, England, Hong-Kong, Portugal, Poland, Outlying-US(Guam-USVI-etc), Trinadad&Tobago, Greece, France, Scotland, Hungary, Holand-Netherlands\n",
    "2. Upper-Middle Income : Latin America and Caribbean (Mexico, colombia, Guatemala, Jamaica, Dominica-Republic, Cuba, China, Thailand, Ecuador, Yugoslavia, Peru\n",
    "3. Lower-Middle Income : East Asia & Pacific, Middle-East & North Africa (Philippines, Haiti, Nicaragua, India, Vietnam, Iran, Combodia, El-Salvador, Honduras, Laos\n",
    "4. Low Income : South Asia, Sub-Saharan Africa\n",
    "5. Not Classified : Taiwan\n"
   ]
  },
  {
   "cell_type": "code",
   "execution_count": 196,
   "id": "a6ed4e4e-b9a0-4e0d-b1c2-2d15c2c4ec07",
   "metadata": {},
   "outputs": [],
   "source": [
    "\n",
    "adult_data['Race'] = ['White' if i=='White' else 'Non-White' for i in adult_data['Race']]\n",
    "\n",
    "adult_data['Sex'] = ['Male' if j=='Male' else 'Female' for j in adult_data['Sex']] #Apparently we only have 2 sex in our dataset\n"
   ]
  },
  {
   "cell_type": "code",
   "execution_count": null,
   "id": "685646d4-1769-4e77-b897-de60ba0afe46",
   "metadata": {},
   "outputs": [],
   "source": [
    "#### Series.astype(original_dtype) to get the astype codes to oroginal values"
   ]
  },
  {
   "cell_type": "code",
   "execution_count": 197,
   "id": "879b3a7c-814e-4991-b545-7635ad4b62dc",
   "metadata": {},
   "outputs": [],
   "source": [
    "pd.options.mode.chained_assignment = None \n",
    "\n",
    "High_Income =['United-States', 'Germany', 'Ireland', 'Italy', 'Canada', 'Puerto-Rico', 'Japan', 'England', 'Hong', 'Portugal', 'Poland', 'Outlying-US(Guam-USVI-etc)','Trinadad&Tobago','Greece', 'France', 'Scotland', 'Hungary','Holand-Netherlands']\n",
    "Upper_Middle_Income = [ 'Mexico', 'Columbia', 'Guatemala', 'Jamaica', 'Dominican-Republic', 'Cuba', 'China', 'Thailand', 'Ecuador', 'Yugoslavia', 'Peru']\n",
    "Lower_Middle_Income = ['Philippines', 'Haiti', 'Nicaragua', 'India', 'Vietnam', 'Iran', 'Cambodia', 'El-Salvador', 'Honduras', 'Laos']\n",
    "Not_Classified = ['Taiwan', '?', 'South']\n",
    "\n",
    "adult_data['Native_country']  = adult_data.Native_country.replace(High_Income,'High_Income')\n",
    "adult_data['Native_country']  = adult_data.Native_country.replace(Upper_Middle_Income,'Upper_Middle_Income')\n",
    "adult_data['Native_country']  = adult_data.Native_country.replace(Lower_Middle_Income,'Lower_Middle_Income')\n",
    "adult_data['Native_country']  = adult_data.Native_country.replace(Not_Classified,'Not_Classified')\n",
    "\n"
   ]
  },
  {
   "cell_type": "code",
   "execution_count": 199,
   "id": "ade8149d-f6c9-40d4-a53d-0bf63c35c6b9",
   "metadata": {},
   "outputs": [],
   "source": [
    "# Encoding categorical columns in numeric terms\n",
    "\n",
    "adult_data['Workclass'] = adult_data.Workclass.astype('category').cat.codes\n",
    "adult_data['Marital_status'] = adult_data.Marital_status.astype('category').cat.codes\n",
    "adult_data['Occupation'] = adult_data.Occupation.astype('category').cat.codes\n",
    "adult_data['Relationship'] = adult_data.Relationship.astype('category').cat.codes\n",
    "adult_data['Race'] = adult_data.Race.astype('category').cat.codes\n",
    "adult_data['Sex'] = adult_data.Sex.astype('category').cat.codes\n",
    "adult_data['Native_country'] = adult_data.Native_country.astype('category').cat.codes\n",
    "adult_data['Income_band'] = adult_data.Income_band.astype('category').cat.codes"
   ]
  },
  {
   "cell_type": "code",
   "execution_count": 200,
   "id": "1e2ba66e-66c7-43d7-a075-74862747f0ad",
   "metadata": {},
   "outputs": [],
   "source": [
    "adult_data_input = adult_data.drop(['Income_band'],axis=1)\n",
    "adult_data_output = adult_data['Income_band']"
   ]
  },
  {
   "cell_type": "code",
   "execution_count": 202,
   "id": "aceed480-bd2a-4c61-8531-f862a804d2f0",
   "metadata": {},
   "outputs": [],
   "source": [
    "X_train,X_test,y_train,y_test = train_test_split(adult_data_input,adult_data_output, test_size=0.33) #Data has been split randomly with shuffle on, so that fairness in data selection can be maintained"
   ]
  },
  {
   "cell_type": "code",
   "execution_count": 201,
   "id": "3c89671b-7744-4f47-92dc-7e4e764fd65b",
   "metadata": {},
   "outputs": [
    {
     "name": "stdout",
     "output_type": "stream",
     "text": [
      "Stored 'adult_data' (DataFrame)\n"
     ]
    }
   ],
   "source": [
    "%store adult_data"
   ]
  },
  {
   "cell_type": "markdown",
   "id": "de9c0ee0-1613-4151-9c7e-aff2280312c7",
   "metadata": {},
   "source": [
    "### Plotting Protected Variables to establish representation of various sections of society in the dataset"
   ]
  },
  {
   "cell_type": "code",
   "execution_count": 14,
   "id": "6d3b0a52-f63d-481d-ab25-276ff4a6d2f8",
   "metadata": {},
   "outputs": [],
   "source": [
    "# ## From Applied AI lab, used to plot multiple varibles in a single plots\n",
    "\n",
    "# fig, axes = plt.subplots(3, 5, figsize=(20, 10))\n",
    "# for i, ax in enumerate(axes.ravel()):\n",
    "#     if i > 12:\n",
    "#         ax.set_visible(False)\n",
    "#         continue\n",
    "#     ax.plot(X[:, i], y, 'o', alpha=.5)\n",
    "#     ax.set_title(\"{}: {}\".format(i, boston.feature_names[i]))\n",
    "#     ax.set_ylabel(\"PRICE\")\n",
    "# plt.show()"
   ]
  },
  {
   "cell_type": "code",
   "execution_count": 15,
   "id": "ac07e511-4411-4103-b261-acf35e1f9ea5",
   "metadata": {},
   "outputs": [
    {
     "data": {
      "image/png": "[encoded data removed]",
      "text/plain": [
       "<Figure size 432x288 with 1 Axes>"
      ]
     },
     "metadata": {},
     "output_type": "display_data"
    }
   ],
   "source": [
    "race_counts = dataset_protected['Priviledged_Race'].value_counts()\n",
    "race_labels = race_counts.index\n",
    "plt.pie(race_counts,startangle=90, radius = 1.2 )\n",
    "plt.legend(race_labels,loc=8, fontsize=10)\n",
    "plt.title('Race',size=20, color='White')\n",
    "plt.show()\n",
    "\n",
    "\n",
    "income_band_counts = adult_data_train['Income_band'].value_counts()\n",
    "income_band_labels = income_band_counts.index\n",
    "\n"
   ]
  },
  {
   "cell_type": "code",
   "execution_count": 16,
   "id": "3ffb50ce-b1df-4327-be9d-9e2c20574f45",
   "metadata": {},
   "outputs": [
    {
     "data": {
      "image/png": "[encoded data removed]",
      "text/plain": [
       "<Figure size 432x288 with 1 Axes>"
      ]
     },
     "metadata": {},
     "output_type": "display_data"
    }
   ],
   "source": [
    "sex_counts = dataset_protected['Priviledged_Sex'].value_counts()\n",
    "sex_labels = sex_counts.index\n",
    "plt.pie(sex_counts,startangle=90, radius = 1.2 )\n",
    "plt.legend(sex_labels,loc=8, fontsize=10)\n",
    "plt.title('Sex',size=20, color='White')\n",
    "plt.show()"
   ]
  },
  {
   "cell_type": "code",
   "execution_count": null,
   "id": "8e68cb6e-271f-4cd6-b0fb-0b7de1ba6b05",
   "metadata": {},
   "outputs": [],
   "source": []
  },
  {
   "cell_type": "code",
   "execution_count": 17,
   "id": "2d2b2fce-9f16-4299-b7ea-d1d8b3abbcb6",
   "metadata": {},
   "outputs": [
    {
     "data": {
      "image/png": "[encoded data removed]",
      "text/plain": [
       "<Figure size 432x288 with 1 Axes>"
      ]
     },
     "metadata": {},
     "output_type": "display_data"
    }
   ],
   "source": [
    "native_country_counts = dataset_protected['Native_country_group'].value_counts()\n",
    "native_country_labels = native_country_counts.index\n",
    "plt.pie(native_country_counts,startangle=90, radius = 1.2)\n",
    "plt.legend(native_country_labels,loc=8, fontsize=10);\n",
    "plt.title('Native-Country',size=20, color='White')\n",
    "plt.show()\n"
   ]
  },
  {
   "cell_type": "code",
   "execution_count": null,
   "id": "7506eaa8-fee1-4857-bb31-930e4750b0fc",
   "metadata": {},
   "outputs": [],
   "source": [
    "We first use of features to train a classifier model (Decision Trees and Logistic Classifier, then use the below metrics to analyse the behaviour )"
   ]
  },
  {
   "cell_type": "markdown",
   "id": "f1e91619-74b5-499f-8289-997d65634b10",
   "metadata": {},
   "source": [
    "\n",
    "### Prevalence as in indicator of bias: It is the fraction of the observations that are positive\n",
    " \n",
    " Metrics to compare prevalance:\n",
    " 1. Accuracy - Fraction predicted correctly\n",
    " 2. Recall/Sensitivity - Fraction of positives predicted correctly \n",
    " 3. Specificity - Fraction of negatives predicted correctly \n",
    " 4. Precision - Fraction of predicted positives that are actually positive  \n",
    " \n",
    "Reference: https://towardsdatascience.com/data-science-performance-metrics-for-everyone-4d68f4859eef\n",
    "\n"
   ]
  },
  {
   "cell_type": "code",
   "execution_count": null,
   "id": "689dc2b1-d3cd-4046-a945-55ce807b988c",
   "metadata": {},
   "outputs": [],
   "source": []
  },
  {
   "cell_type": "markdown",
   "id": "fc1bdd66-5502-4b4d-8950-87e866604244",
   "metadata": {},
   "source": [
    "\n",
    "\n",
    "\n",
    "Approach: https://ocw.mit.edu/courses/res-ec-001-exploring-fairness-in-machine-learning-for-international-development-spring-2020/pages/module-three-framework/\n",
    "\n",
    "- Identify senstive variables that can potentially cause bias (e.g.race, religion, national origin, gender, marital status, age, and socioeconomic status. \n",
    "\n",
    "\n",
    "Fairness starts with training dataset:\n",
    "1. The training data may not reprsent all the groups\n",
    "2. Past data may not be in-line with current events or misinterpretaion of past events may happen (called selective perception)\n",
    "3. Hidden correlations in input data could lead to bias, e.g. b/w a protected variable and the predictor\n",
    "4. Fainess through unawareness could help, but it could still perpetuate bias if the protected variables are correlated to other attributes of the data. So we could remove protected variables from our data, but would still include bias indirectly through other variables correlated to those protected variables."
   ]
  },
  {
   "cell_type": "markdown",
   "id": "da084a11-93db-4a3f-870f-daaf1318386f",
   "metadata": {},
   "source": [
    "- For ordinal data i.e. data that has orderly values but distance between values is unquantified, Label Encoding is more suitable.\n",
    "- For non-ordinal data, One-hot-Encoding is more suitable."
   ]
  },
  {
   "cell_type": "markdown",
   "id": "fef8e79f-f741-469a-bccb-660ea202329c",
   "metadata": {},
   "source": [
    "- Continuous Features: age, fnlwgt, capital-gain, capital-loss, hours-per-week\n",
    "- Categorical-Ordinal Features: income-band\n",
    "- Categorical-NonOrdinal Features: workclass,education, education-num, marital-status,occupation, relationship, race,sex,native-country"
   ]
  },
  {
   "cell_type": "code",
   "execution_count": null,
   "id": "20c846d0-391e-4f78-9368-32c2688611dc",
   "metadata": {},
   "outputs": [],
   "source": [
    "# # Step 2: Encode categorical variables for ease of analysis:\n",
    "# from sklearn.pipeline import Pipeline\n",
    "# from sklearn.compose import ColumnTransformer\n",
    "# from sklearn.preprocessing import OneHotEncoder\n",
    "# from sklearn.preprocessing import OrdinalEncoder\n",
    "\n",
    "# Continuous_Features = ['age','fnlwgt', 'capital-gain', 'capital-loss', 'hours-per-week']\n",
    "\n",
    "# Categorical_NonOrdinal_Features = ['workclass','education-num','marital-status','occupation','relationship','race','sex','native-country']\n",
    "\n",
    "# Categorical_Ordinal_Features  = ['income-band']\n",
    "\n",
    "\n",
    "# # Label Encoding for Categorical_Ordinal_Features\n",
    "# # One Hot Encoding for Categorical_NonOrdinal_Features\n",
    "\n",
    "\n",
    "# Categorical_NonOrdinal_Feature_transform = Pipeline(steps=[('OneHotEncoding', OneHotEncoder(sparse_output=False, handle_unknown=\"ignore\")),])\n",
    "# Categorical_Ordinal_Feature_transform    = Pipeline(steps=[(\"LabelEncoder\"  , OrdinalEncoder()),])\n",
    "\n",
    "# ColTrans = ColumnTransformer(transformers=[(\"Categorical_OneHotEncoding\", Categorical_NonOrdinal_Feature_transform, Categorical_NonOrdinal_Features),\n",
    "#                                            (\"Categorical_LabelEncoder\"  , Categorical_Ordinal_Feature_transform   , Categorical_Ordinal_Features),])\n",
    "\n",
    "\n",
    "# transformed_adult_data_train = ColTrans.fit_transform(adult_data_train)\n",
    "# transformed_adult_data_train.shape\n",
    "\n",
    "# df = pd.DataFrame(transformed_adult_data_train)\n",
    "# df"
   ]
  },
  {
   "cell_type": "markdown",
   "id": "482d5065-53c8-47be-af13-e3be56a58160",
   "metadata": {},
   "source": [
    "#### We replace categorical values with numerical values using replace values method. We could also use more technical methods like OneHotEcoding or Label Encoder. But that makes it a bit tricky to plot correlation of all variables in one graph. So, for the sake of smplicity, we use choose to use simple replace values method"
   ]
  },
  {
   "cell_type": "code",
   "execution_count": null,
   "id": "c65a6372-0101-4ae7-87ce-7e3ba54623e8",
   "metadata": {},
   "outputs": [],
   "source": []
  },
  {
   "cell_type": "code",
   "execution_count": 28,
   "id": "e9e56819-51a9-4e7f-9822-52f53109d619",
   "metadata": {},
   "outputs": [],
   "source": [
    "# Define a replace method \n",
    "\n",
    "\n",
    "\n",
    "\n",
    "# # Convert categorical features to numerical using one-hot encoding\n",
    "# categorical_columns = ['Workclass_coded', 'Marital_status_coded', 'Occupation_coded', 'Relationship_coded', 'Race_coded', 'Sex_coded', 'Native_country_coded']\n",
    "# adult_data_train = pd.get_dummies(adult_data_train, columns=categorical_columns)"
   ]
  },
  {
   "cell_type": "code",
   "execution_count": 29,
   "id": "bdc786fb-13c1-4c50-af58-6679d2345a82",
   "metadata": {},
   "outputs": [
    {
     "data": {
      "text/html": [
       "<div>\n",
       "<style scoped>\n",
       "    .dataframe tbody tr th:only-of-type {\n",
       "        vertical-align: middle;\n",
       "    }\n",
       "\n",
       "    .dataframe tbody tr th {\n",
       "        vertical-align: top;\n",
       "    }\n",
       "\n",
       "    .dataframe thead th {\n",
       "        text-align: right;\n",
       "    }\n",
       "</style>\n",
       "<table border=\"1\" class=\"dataframe\">\n",
       "  <thead>\n",
       "    <tr style=\"text-align: right;\">\n",
       "      <th></th>\n",
       "      <th>Age</th>\n",
       "      <th>Workclass</th>\n",
       "      <th>fnlwgt</th>\n",
       "      <th>Education_num</th>\n",
       "      <th>Marital_status</th>\n",
       "      <th>Occupation</th>\n",
       "      <th>Relationship</th>\n",
       "      <th>Race</th>\n",
       "      <th>Sex</th>\n",
       "      <th>Capital_gain</th>\n",
       "      <th>...</th>\n",
       "      <th>Native_country_coded_38</th>\n",
       "      <th>Native_country_coded_39</th>\n",
       "      <th>Native_country_coded_40</th>\n",
       "      <th>Workclass_coded</th>\n",
       "      <th>Marital_status_coded</th>\n",
       "      <th>Occupation_coded</th>\n",
       "      <th>Relationship_coded</th>\n",
       "      <th>Race_coded</th>\n",
       "      <th>Sex_coded</th>\n",
       "      <th>Native_country_coded</th>\n",
       "    </tr>\n",
       "  </thead>\n",
       "  <tbody>\n",
       "    <tr>\n",
       "      <th>17277</th>\n",
       "      <td>36</td>\n",
       "      <td>Self-emp-not-inc</td>\n",
       "      <td>223789</td>\n",
       "      <td>14</td>\n",
       "      <td>Married-civ-spouse</td>\n",
       "      <td>Prof-specialty</td>\n",
       "      <td>Husband</td>\n",
       "      <td>White</td>\n",
       "      <td>Male</td>\n",
       "      <td>0</td>\n",
       "      <td>...</td>\n",
       "      <td>1</td>\n",
       "      <td>0</td>\n",
       "      <td>0</td>\n",
       "      <td>6</td>\n",
       "      <td>2</td>\n",
       "      <td>10</td>\n",
       "      <td>0</td>\n",
       "      <td>4</td>\n",
       "      <td>1</td>\n",
       "      <td>38</td>\n",
       "    </tr>\n",
       "    <tr>\n",
       "      <th>1276</th>\n",
       "      <td>46</td>\n",
       "      <td>Private</td>\n",
       "      <td>129007</td>\n",
       "      <td>13</td>\n",
       "      <td>Married-civ-spouse</td>\n",
       "      <td>Sales</td>\n",
       "      <td>Husband</td>\n",
       "      <td>White</td>\n",
       "      <td>Male</td>\n",
       "      <td>0</td>\n",
       "      <td>...</td>\n",
       "      <td>1</td>\n",
       "      <td>0</td>\n",
       "      <td>0</td>\n",
       "      <td>4</td>\n",
       "      <td>2</td>\n",
       "      <td>12</td>\n",
       "      <td>0</td>\n",
       "      <td>4</td>\n",
       "      <td>1</td>\n",
       "      <td>38</td>\n",
       "    </tr>\n",
       "    <tr>\n",
       "      <th>13042</th>\n",
       "      <td>71</td>\n",
       "      <td>?</td>\n",
       "      <td>144872</td>\n",
       "      <td>10</td>\n",
       "      <td>Married-civ-spouse</td>\n",
       "      <td>?</td>\n",
       "      <td>Husband</td>\n",
       "      <td>White</td>\n",
       "      <td>Male</td>\n",
       "      <td>6514</td>\n",
       "      <td>...</td>\n",
       "      <td>1</td>\n",
       "      <td>0</td>\n",
       "      <td>0</td>\n",
       "      <td>0</td>\n",
       "      <td>2</td>\n",
       "      <td>0</td>\n",
       "      <td>0</td>\n",
       "      <td>4</td>\n",
       "      <td>1</td>\n",
       "      <td>38</td>\n",
       "    </tr>\n",
       "    <tr>\n",
       "      <th>12500</th>\n",
       "      <td>60</td>\n",
       "      <td>Private</td>\n",
       "      <td>160339</td>\n",
       "      <td>10</td>\n",
       "      <td>Married-civ-spouse</td>\n",
       "      <td>Craft-repair</td>\n",
       "      <td>Husband</td>\n",
       "      <td>White</td>\n",
       "      <td>Male</td>\n",
       "      <td>0</td>\n",
       "      <td>...</td>\n",
       "      <td>0</td>\n",
       "      <td>0</td>\n",
       "      <td>0</td>\n",
       "      <td>4</td>\n",
       "      <td>2</td>\n",
       "      <td>3</td>\n",
       "      <td>0</td>\n",
       "      <td>4</td>\n",
       "      <td>1</td>\n",
       "      <td>4</td>\n",
       "    </tr>\n",
       "    <tr>\n",
       "      <th>29619</th>\n",
       "      <td>44</td>\n",
       "      <td>Private</td>\n",
       "      <td>235786</td>\n",
       "      <td>10</td>\n",
       "      <td>Married-civ-spouse</td>\n",
       "      <td>Prof-specialty</td>\n",
       "      <td>Husband</td>\n",
       "      <td>White</td>\n",
       "      <td>Male</td>\n",
       "      <td>7298</td>\n",
       "      <td>...</td>\n",
       "      <td>1</td>\n",
       "      <td>0</td>\n",
       "      <td>0</td>\n",
       "      <td>4</td>\n",
       "      <td>2</td>\n",
       "      <td>10</td>\n",
       "      <td>0</td>\n",
       "      <td>4</td>\n",
       "      <td>1</td>\n",
       "      <td>38</td>\n",
       "    </tr>\n",
       "  </tbody>\n",
       "</table>\n",
       "<p>5 rows × 110 columns</p>\n",
       "</div>"
      ],
      "text/plain": [
       "       Age          Workclass  fnlwgt  Education_num       Marital_status  \\\n",
       "17277   36   Self-emp-not-inc  223789             14   Married-civ-spouse   \n",
       "1276    46            Private  129007             13   Married-civ-spouse   \n",
       "13042   71                  ?  144872             10   Married-civ-spouse   \n",
       "12500   60            Private  160339             10   Married-civ-spouse   \n",
       "29619   44            Private  235786             10   Married-civ-spouse   \n",
       "\n",
       "            Occupation Relationship    Race    Sex  Capital_gain  ...  \\\n",
       "17277   Prof-specialty      Husband   White   Male             0  ...   \n",
       "1276             Sales      Husband   White   Male             0  ...   \n",
       "13042                ?      Husband   White   Male          6514  ...   \n",
       "12500     Craft-repair      Husband   White   Male             0  ...   \n",
       "29619   Prof-specialty      Husband   White   Male          7298  ...   \n",
       "\n",
       "       Native_country_coded_38  Native_country_coded_39  \\\n",
       "17277                        1                        0   \n",
       "1276                         1                        0   \n",
       "13042                        1                        0   \n",
       "12500                        0                        0   \n",
       "29619                        1                        0   \n",
       "\n",
       "      Native_country_coded_40 Workclass_coded Marital_status_coded  \\\n",
       "17277                       0               6                    2   \n",
       "1276                        0               4                    2   \n",
       "13042                       0               0                    2   \n",
       "12500                       0               4                    2   \n",
       "29619                       0               4                    2   \n",
       "\n",
       "      Occupation_coded Relationship_coded  Race_coded  Sex_coded  \\\n",
       "17277               10                  0           4          1   \n",
       "1276                12                  0           4          1   \n",
       "13042                0                  0           4          1   \n",
       "12500                3                  0           4          1   \n",
       "29619               10                  0           4          1   \n",
       "\n",
       "       Native_country_coded  \n",
       "17277                    38  \n",
       "1276                     38  \n",
       "13042                    38  \n",
       "12500                     4  \n",
       "29619                    38  \n",
       "\n",
       "[5 rows x 110 columns]"
      ]
     },
     "execution_count": 29,
     "metadata": {},
     "output_type": "execute_result"
    }
   ],
   "source": [
    "adult_data_train.head()"
   ]
  },
  {
   "cell_type": "code",
   "execution_count": 19,
   "id": "33d54d8d-1976-49c6-a947-84f490c52657",
   "metadata": {},
   "outputs": [],
   "source": [
    "df = adult_data_train.drop(['Income_band','Workclass','Sex','Marital_status','Occupation','Relationship','Race','Native_country'], axis=1)"
   ]
  },
  {
   "cell_type": "markdown",
   "id": "0fc6c536-5844-4104-b093-4d9c660d236a",
   "metadata": {},
   "source": [
    "#### In order to check correlation b/w variables to identify potential hidden causes of biases along with obvious protected variables, we replace the categorical values to numerical codes."
   ]
  },
  {
   "cell_type": "markdown",
   "id": "4965267a-6c1c-45ba-913c-a6bf665be660",
   "metadata": {},
   "source": [
    "#### Step 3: Find correlation b/w variables to identify protected varibles and variables correlated to the protetced variables."
   ]
  },
  {
   "cell_type": "code",
   "execution_count": 80,
   "id": "7cd66b39-c08c-4525-a777-21912824d443",
   "metadata": {},
   "outputs": [
    {
     "name": "stderr",
     "output_type": "stream",
     "text": [
      "<ipython-input-80-2e42863d2fb5>:2: FutureWarning: The default value of numeric_only in DataFrame.corr is deprecated. In a future version, it will default to False. Select only valid columns or specify the value of numeric_only to silence this warning.\n",
      "  heatmap = sns.heatmap(df.corr()[['Income_band_coded']].sort_values(by='Income_band_coded', ascending=False), vmin=-1, vmax=1, annot=True, cmap='BrBG')\n"
     ]
    },
    {
     "data": {
      "image/png": "[encoded data removed]",
      "text/plain": [
       "<Figure size 288x432 with 2 Axes>"
      ]
     },
     "metadata": {
      "needs_background": "light"
     },
     "output_type": "display_data"
    }
   ],
   "source": [
    "plt.figure(figsize=(4, 6))\n",
    "heatmap = sns.heatmap(df.corr()[['Income_band_coded']].sort_values(by='Income_band_coded', ascending=False), vmin=-1, vmax=1, annot=True, cmap='BrBG')\n",
    "heatmap.set_title('Variables Correlating with Income Band', fontdict={'fontsize':18}, pad=16);"
   ]
  },
  {
   "cell_type": "code",
   "execution_count": 82,
   "id": "0396095c-8add-4cbd-bfe5-f7e8dda4d99f",
   "metadata": {},
   "outputs": [
    {
     "name": "stderr",
     "output_type": "stream",
     "text": [
      "<ipython-input-82-703a6a049a91>:3: FutureWarning: The default value of numeric_only in DataFrame.corr is deprecated. In a future version, it will default to False. Select only valid columns or specify the value of numeric_only to silence this warning.\n",
      "  mask = np.triu(np.ones_like(df.corr(), dtype=np.bool))\n",
      "<ipython-input-82-703a6a049a91>:3: DeprecationWarning: `np.bool` is a deprecated alias for the builtin `bool`. To silence this warning, use `bool` by itself. Doing this will not modify any behavior and is safe. If you specifically wanted the numpy scalar type, use `np.bool_` here.\n",
      "Deprecated in NumPy 1.20; for more details and guidance: https://numpy.org/devdocs/release/1.20.0-notes.html#deprecations\n",
      "  mask = np.triu(np.ones_like(df.corr(), dtype=np.bool))\n",
      "<ipython-input-82-703a6a049a91>:4: FutureWarning: The default value of numeric_only in DataFrame.corr is deprecated. In a future version, it will default to False. Select only valid columns or specify the value of numeric_only to silence this warning.\n",
      "  heatmap = sns.heatmap(df.corr(), mask=mask, vmin=-1, vmax=1, annot=True, cmap='BrBG')\n"
     ]
    },
    {
     "data": {
      "image/png": "[encoded data removed]",
      "text/plain": [
       "<Figure size 720x432 with 2 Axes>"
      ]
     },
     "metadata": {
      "needs_background": "light"
     },
     "output_type": "display_data"
    }
   ],
   "source": [
    "\n",
    "plt.figure(figsize=(10, 6))\n",
    "# define the mask to set the values in the upper triangle to True\n",
    "mask = np.triu(np.ones_like(df.corr(), dtype=np.bool))\n",
    "heatmap = sns.heatmap(df.corr(), mask=mask, vmin=-1, vmax=1, annot=True, cmap='BrBG')\n",
    "#heatmap = sns.heatmap(df.corr(),vmin=-1, vmax=1,  annot=True, cmap='BrBG')\n",
    "heatmap.set_title('Correlation Heatmap - All variables', fontdict={'fontsize':18}, pad=16);"
   ]
  },
  {
   "cell_type": "markdown",
   "id": "adb99cd4-abf1-4597-8475-b4867c15edd6",
   "metadata": {},
   "source": []
  },
  {
   "cell_type": "code",
   "execution_count": 107,
   "id": "5368a8e2-50cd-49f4-9b49-a232d78921c9",
   "metadata": {},
   "outputs": [
    {
     "name": "stdout",
     "output_type": "stream",
     "text": [
      "Stored 'df' (DataFrame)\n"
     ]
    }
   ],
   "source": [
    "%store df"
   ]
  },
  {
   "cell_type": "markdown",
   "id": "0a828131-7c88-491c-98a6-8a52ad8efc56",
   "metadata": {},
   "source": [
    "### Step: Check the statistical summary of the continuous variables to identify outliers"
   ]
  },
  {
   "cell_type": "code",
   "execution_count": 22,
   "id": "d3d42db9-8948-4b87-a773-b5d26de28c01",
   "metadata": {},
   "outputs": [
    {
     "data": {
      "text/html": [
       "<div>\n",
       "<style scoped>\n",
       "    .dataframe tbody tr th:only-of-type {\n",
       "        vertical-align: middle;\n",
       "    }\n",
       "\n",
       "    .dataframe tbody tr th {\n",
       "        vertical-align: top;\n",
       "    }\n",
       "\n",
       "    .dataframe thead th {\n",
       "        text-align: right;\n",
       "    }\n",
       "</style>\n",
       "<table border=\"1\" class=\"dataframe\">\n",
       "  <thead>\n",
       "    <tr style=\"text-align: right;\">\n",
       "      <th></th>\n",
       "      <th>Age</th>\n",
       "      <th>fnlwgt</th>\n",
       "      <th>Capital_gain</th>\n",
       "      <th>Capital_loss</th>\n",
       "      <th>Hours_per_week</th>\n",
       "    </tr>\n",
       "  </thead>\n",
       "  <tbody>\n",
       "    <tr>\n",
       "      <th>count</th>\n",
       "      <td>21815.000000</td>\n",
       "      <td>2.181500e+04</td>\n",
       "      <td>21815.000000</td>\n",
       "      <td>21815.000000</td>\n",
       "      <td>21815.000000</td>\n",
       "    </tr>\n",
       "    <tr>\n",
       "      <th>mean</th>\n",
       "      <td>38.585881</td>\n",
       "      <td>1.895368e+05</td>\n",
       "      <td>1092.752326</td>\n",
       "      <td>88.671006</td>\n",
       "      <td>40.388815</td>\n",
       "    </tr>\n",
       "    <tr>\n",
       "      <th>std</th>\n",
       "      <td>13.665339</td>\n",
       "      <td>1.047700e+05</td>\n",
       "      <td>7437.530811</td>\n",
       "      <td>406.303967</td>\n",
       "      <td>12.419577</td>\n",
       "    </tr>\n",
       "    <tr>\n",
       "      <th>min</th>\n",
       "      <td>17.000000</td>\n",
       "      <td>1.228500e+04</td>\n",
       "      <td>0.000000</td>\n",
       "      <td>0.000000</td>\n",
       "      <td>1.000000</td>\n",
       "    </tr>\n",
       "    <tr>\n",
       "      <th>25%</th>\n",
       "      <td>28.000000</td>\n",
       "      <td>1.176060e+05</td>\n",
       "      <td>0.000000</td>\n",
       "      <td>0.000000</td>\n",
       "      <td>40.000000</td>\n",
       "    </tr>\n",
       "    <tr>\n",
       "      <th>50%</th>\n",
       "      <td>37.000000</td>\n",
       "      <td>1.786860e+05</td>\n",
       "      <td>0.000000</td>\n",
       "      <td>0.000000</td>\n",
       "      <td>40.000000</td>\n",
       "    </tr>\n",
       "    <tr>\n",
       "      <th>75%</th>\n",
       "      <td>48.000000</td>\n",
       "      <td>2.375630e+05</td>\n",
       "      <td>0.000000</td>\n",
       "      <td>0.000000</td>\n",
       "      <td>45.000000</td>\n",
       "    </tr>\n",
       "    <tr>\n",
       "      <th>max</th>\n",
       "      <td>90.000000</td>\n",
       "      <td>1.484705e+06</td>\n",
       "      <td>99999.000000</td>\n",
       "      <td>4356.000000</td>\n",
       "      <td>99.000000</td>\n",
       "    </tr>\n",
       "  </tbody>\n",
       "</table>\n",
       "</div>"
      ],
      "text/plain": [
       "                Age        fnlwgt  Capital_gain  Capital_loss  Hours_per_week\n",
       "count  21815.000000  2.181500e+04  21815.000000  21815.000000    21815.000000\n",
       "mean      38.585881  1.895368e+05   1092.752326     88.671006       40.388815\n",
       "std       13.665339  1.047700e+05   7437.530811    406.303967       12.419577\n",
       "min       17.000000  1.228500e+04      0.000000      0.000000        1.000000\n",
       "25%       28.000000  1.176060e+05      0.000000      0.000000       40.000000\n",
       "50%       37.000000  1.786860e+05      0.000000      0.000000       40.000000\n",
       "75%       48.000000  2.375630e+05      0.000000      0.000000       45.000000\n",
       "max       90.000000  1.484705e+06  99999.000000   4356.000000       99.000000"
      ]
     },
     "execution_count": 22,
     "metadata": {},
     "output_type": "execute_result"
    }
   ],
   "source": [
    "df[['Age','fnlwgt', 'Capital_gain', 'Capital_loss', 'Hours_per_week']].describe()"
   ]
  },
  {
   "cell_type": "markdown",
   "id": "97f26ddf-4e23-4d21-871c-10c1c34df47b",
   "metadata": {},
   "source": [
    "### Step 4: Implement Iterpretable ML models to the datase"
   ]
  },
  {
   "cell_type": "code",
   "execution_count": 96,
   "id": "220f75a6-55cc-44b5-a046-f825de4ce304",
   "metadata": {},
   "outputs": [],
   "source": [
    "#Reference: https://scikit-learn.org/\n",
    "        \n",
    "from sklearn.tree import DecisionTreeClassifier\n",
    "from sklearn.linear_model import LogisticRegression\n",
    "from sklearn.metrics import accuracy_score,confusion_matrix\n"
   ]
  },
  {
   "cell_type": "code",
   "execution_count": 74,
   "id": "c2436556-678e-4252-a420-a609f8feaf47",
   "metadata": {},
   "outputs": [],
   "source": [
    "def DecisionTree(X,Y,d): #d-Maxdepth\n",
    "    regressor = DecisionTreeClassifier(criterion='entropy', max_depth=d).fit(X, Y)\n",
    "    score = regressor.score(X,Y)\n",
    "    prediction = regressor.predict(X)\n",
    "    featImp = regressor.feature_importances_\n",
    "    return score, prediction, featImp\n",
    "\n",
    "\n",
    "# # Show prediction accuracies in scaled and unscaled data.\n",
    "# print(\"\\nPrediction accuracy for the Decision Tree of depth = 2\")\n",
    "# print(f\"{accuracy_score(y_test, pred_test):.2%}\\n\")  "
   ]
  },
  {
   "cell_type": "code",
   "execution_count": 70,
   "id": "9f7b6439-cc4d-489d-8f2d-bc776519cda2",
   "metadata": {},
   "outputs": [],
   "source": [
    "inp = df[['Workclass_coded', 'Marital_status_coded', 'Occupation_coded', 'Relationship_coded', 'Race_coded', 'Sex_coded', 'Native_country_coded']].values#.reshape(-1,1)\n",
    "op = df['Income_band_coded'].values.reshape(-1,1)\n",
    "\n",
    "inp = np.array(inp).reshape(21815,7)"
   ]
  },
  {
   "cell_type": "code",
   "execution_count": 75,
   "id": "f83a235b-ba95-4764-b676-c7dfc25a6967",
   "metadata": {},
   "outputs": [
    {
     "data": {
      "text/plain": [
       "(0.7735044694017877,\n",
       " array([1, 1, 0, ..., 0, 0, 1], dtype=int8),\n",
       " array([0.        , 0.        , 0.04092312, 0.95907688, 0.        ,\n",
       "        0.        , 0.        ]))"
      ]
     },
     "execution_count": 75,
     "metadata": {},
     "output_type": "execute_result"
    }
   ],
   "source": [
    "DecisionTree(inp,op, 2)"
   ]
  },
  {
   "cell_type": "code",
   "execution_count": 101,
   "id": "091e23c2-1b8a-4e60-b587-e926f88c0aeb",
   "metadata": {},
   "outputs": [],
   "source": [
    "# More appropriate than using Linear Regression because Logictice Regression gives class of solutions instead of just one fixed soltuion unlike Linear regression \n",
    "# Logictice Regression is better for binary predictions (here we have just 2 income bands, thus this algorithm is better)\n",
    "\n",
    "## Refernce: https://towardsdatascience.com/interpreting-coefficients-in-linear-and-logistic-regression-6ddf1295f6f1\n",
    "# For Interpretability:\n",
    "# odds = np.exp(logreg.coef_[0])\n",
    "# pd.DataFrame(odds, \n",
    "#              X.columns, \n",
    "#              columns=['coef'])\\  \n",
    "\n",
    "# print(\"\\nPrediction accuracy for the Decision Tree of depth = 5\")\n",
    "# print(f\"{accuracy_score(y_test, pred_test_std):.2%}\\n\")"
   ]
  },
  {
   "cell_type": "code",
   "execution_count": 106,
   "id": "913bb7e7-7ffb-4dae-a280-9f89cbe8392f",
   "metadata": {},
   "outputs": [
    {
     "ename": "TypeError",
     "evalue": "LogisticRegression() got an unexpected keyword argument 'random_state'",
     "output_type": "error",
     "traceback": [
      "\u001b[0;31m---------------------------------------------------------------------------\u001b[0m",
      "\u001b[0;31mTypeError\u001b[0m                                 Traceback (most recent call last)",
      "\u001b[0;32m<ipython-input-106-65c3c0aceb7f>\u001b[0m in \u001b[0;36m<module>\u001b[0;34m\u001b[0m\n\u001b[1;32m      7\u001b[0m     \u001b[0;32mreturn\u001b[0m \u001b[0mscore\u001b[0m\u001b[0;34m,\u001b[0m \u001b[0mprediction\u001b[0m\u001b[0;34m,\u001b[0m \u001b[0mweights\u001b[0m\u001b[0;34m\u001b[0m\u001b[0;34m\u001b[0m\u001b[0m\n\u001b[1;32m      8\u001b[0m \u001b[0;34m\u001b[0m\u001b[0m\n\u001b[0;32m----> 9\u001b[0;31m \u001b[0mLogisticRegressor\u001b[0m\u001b[0;34m(\u001b[0m\u001b[0minp\u001b[0m\u001b[0;34m,\u001b[0m\u001b[0mop\u001b[0m\u001b[0;34m)\u001b[0m\u001b[0;34m\u001b[0m\u001b[0;34m\u001b[0m\u001b[0m\n\u001b[0m",
      "\u001b[0;32m<ipython-input-106-65c3c0aceb7f>\u001b[0m in \u001b[0;36mLogisticRegressor\u001b[0;34m(X, Y)\u001b[0m\n\u001b[1;32m      1\u001b[0m \u001b[0;32mdef\u001b[0m \u001b[0mLogisticRegressor\u001b[0m\u001b[0;34m(\u001b[0m\u001b[0mX\u001b[0m\u001b[0;34m,\u001b[0m\u001b[0mY\u001b[0m\u001b[0;34m)\u001b[0m\u001b[0;34m:\u001b[0m\u001b[0;34m\u001b[0m\u001b[0;34m\u001b[0m\u001b[0m\n\u001b[0;32m----> 2\u001b[0;31m     \u001b[0mregressor\u001b[0m \u001b[0;34m=\u001b[0m \u001b[0mLogisticRegression\u001b[0m\u001b[0;34m(\u001b[0m\u001b[0mX\u001b[0m\u001b[0;34m,\u001b[0m\u001b[0mY\u001b[0m\u001b[0;34m)\u001b[0m\u001b[0;34m\u001b[0m\u001b[0;34m\u001b[0m\u001b[0m\n\u001b[0m\u001b[1;32m      3\u001b[0m     \u001b[0mregressor\u001b[0m\u001b[0;34m.\u001b[0m\u001b[0mfit\u001b[0m\u001b[0;34m(\u001b[0m\u001b[0mX\u001b[0m\u001b[0;34m,\u001b[0m\u001b[0mY\u001b[0m\u001b[0;34m)\u001b[0m\u001b[0;34m\u001b[0m\u001b[0;34m\u001b[0m\u001b[0m\n\u001b[1;32m      4\u001b[0m     \u001b[0mscore\u001b[0m \u001b[0;34m=\u001b[0m \u001b[0mregressor\u001b[0m\u001b[0;34m.\u001b[0m\u001b[0mscore\u001b[0m\u001b[0;34m(\u001b[0m\u001b[0mX\u001b[0m\u001b[0;34m,\u001b[0m \u001b[0mY\u001b[0m\u001b[0;34m)\u001b[0m\u001b[0;34m\u001b[0m\u001b[0;34m\u001b[0m\u001b[0m\n\u001b[1;32m      5\u001b[0m     \u001b[0mprediction\u001b[0m \u001b[0;34m=\u001b[0m \u001b[0mregressor\u001b[0m\u001b[0;34m.\u001b[0m\u001b[0mpredict\u001b[0m\u001b[0;34m(\u001b[0m\u001b[0mX\u001b[0m\u001b[0;34m)\u001b[0m\u001b[0;34m\u001b[0m\u001b[0;34m\u001b[0m\u001b[0m\n",
      "\u001b[0;32m<ipython-input-97-3d234e0b1ddd>\u001b[0m in \u001b[0;36mLogisticRegression\u001b[0;34m(X, Y)\u001b[0m\n\u001b[1;32m      2\u001b[0m \u001b[0;31m# Logictice Regression is better for binary predictions (here we have just 2 income bands, thus this algorithm is better)\u001b[0m\u001b[0;34m\u001b[0m\u001b[0;34m\u001b[0m\u001b[0;34m\u001b[0m\u001b[0m\n\u001b[1;32m      3\u001b[0m \u001b[0;32mdef\u001b[0m \u001b[0mLogisticRegression\u001b[0m\u001b[0;34m(\u001b[0m\u001b[0mX\u001b[0m\u001b[0;34m,\u001b[0m\u001b[0mY\u001b[0m\u001b[0;34m)\u001b[0m\u001b[0;34m:\u001b[0m\u001b[0;34m\u001b[0m\u001b[0;34m\u001b[0m\u001b[0m\n\u001b[0;32m----> 4\u001b[0;31m     \u001b[0mregressor\u001b[0m \u001b[0;34m=\u001b[0m \u001b[0mLogisticRegression\u001b[0m\u001b[0;34m(\u001b[0m\u001b[0mrandom_state\u001b[0m\u001b[0;34m=\u001b[0m\u001b[0;36m0\u001b[0m\u001b[0;34m)\u001b[0m\u001b[0;34m.\u001b[0m\u001b[0mfit\u001b[0m\u001b[0;34m(\u001b[0m\u001b[0mX\u001b[0m\u001b[0;34m,\u001b[0m\u001b[0mY\u001b[0m\u001b[0;34m)\u001b[0m\u001b[0;34m\u001b[0m\u001b[0;34m\u001b[0m\u001b[0m\n\u001b[0m\u001b[1;32m      5\u001b[0m     \u001b[0mscore\u001b[0m \u001b[0;34m=\u001b[0m \u001b[0mregressor\u001b[0m\u001b[0;34m.\u001b[0m\u001b[0mscore\u001b[0m\u001b[0;34m(\u001b[0m\u001b[0mX\u001b[0m\u001b[0;34m,\u001b[0m \u001b[0mY\u001b[0m\u001b[0;34m)\u001b[0m\u001b[0;34m\u001b[0m\u001b[0;34m\u001b[0m\u001b[0m\n\u001b[1;32m      6\u001b[0m     \u001b[0mprediction\u001b[0m \u001b[0;34m=\u001b[0m \u001b[0mregressor\u001b[0m\u001b[0;34m.\u001b[0m\u001b[0mpredict\u001b[0m\u001b[0;34m(\u001b[0m\u001b[0mX\u001b[0m\u001b[0;34m)\u001b[0m\u001b[0;34m\u001b[0m\u001b[0;34m\u001b[0m\u001b[0m\n",
      "\u001b[0;31mTypeError\u001b[0m: LogisticRegression() got an unexpected keyword argument 'random_state'"
     ]
    }
   ],
   "source": [
    "def LogisticRegressor(X,Y):     \n",
    "    regressor = LogisticRegression(X,Y)\n",
    "    regressor.fit(X,Y)\n",
    "    score = regressor.score(X, Y)\n",
    "    prediction = regressor.predict(X)\n",
    "    weights = regressor.coef_#(Note: you will need to use .coef_[0] for logistic regression to put it into a dataframe.)\n",
    "    return score, prediction, weights\n",
    "\n",
    "LogisticRegressor(inp,op)"
   ]
  },
  {
   "cell_type": "code",
   "execution_count": null,
   "id": "268460cb-8026-41de-9d15-978d35780837",
   "metadata": {},
   "outputs": [],
   "source": []
  },
  {
   "cell_type": "code",
   "execution_count": null,
   "id": "6761bf09-a755-4937-8006-292e28427a48",
   "metadata": {},
   "outputs": [],
   "source": []
  },
  {
   "cell_type": "code",
   "execution_count": null,
   "id": "9c1e2a94-d16a-436c-aabe-607df9dee449",
   "metadata": {},
   "outputs": [],
   "source": []
  },
  {
   "cell_type": "markdown",
   "id": "f5451178-5f83-4b1e-9d45-1c43a4f69766",
   "metadata": {},
   "source": [
    "Reference: https://towardsdatascience.com/interpreting-coefficients-in-linear-and-logistic-regression-6ddf1295f6f1\n",
    "\n",
    "\n",
    "Interpreting linear regression coefficients is fairly straightforward, “For every one-unit increase in [X variable], the [y variable] increases by [coefficient] when all other variables are held constant.”\n",
    "\n",
    "However, logistic regression coefficients aren’t as easily interpreted. This is because logistic regression uses the logit link function to “bend” our line of best fit and convert our classification problem into a regression problem. (Again, learn more here.)\n",
    "\n",
    "Because of the logit function, logistic regression coefficients represent the log odds that an observation is in the target class (“1”) given the values of its X variables. Thus, these log odd coefficients need to be converted to regular odds in order to make sense of them. Happily, this is done by simply exponentiating the log odds coefficients, which you can do with np.exp()\n",
    "\n",
    "“For every one-unit increase in [X variable], the odds that the observation is in (y class) are [coefficient] times as large as the odds that the observation is not in (y class) when all other variables are held constant.”\n",
    "\n",
    "\n",
    "\n",
    "Reference for Classification on Adult dataset: https://www.guru99.com/r-generalized-linear-model.html\n",
    "\n",
    "How to Classify Adult dataset:\n",
    "\n",
    "    Step 1: Check continuous variables\n",
    "    Step 2: Check factor variables\n",
    "    Step 3: Feature engineering\n",
    "    Step 4: Summary statistic\n",
    "    Step 5: Train/test set\n",
    "    Step 6: Build the model\n",
    "    Step 7: Assess the performance of the model\n",
    "    step 8: Improve the model\n"
   ]
  },
  {
   "cell_type": "markdown",
   "id": "1aeff041-f0fe-45ef-9e10-531138e85ff1",
   "metadata": {},
   "source": [
    "### Compare the behaviour of causally correlated variable income-band vs other spurious variables like Education, Gender, Native-country etc\n",
    "\n",
    "- Strategy is to \n",
    "1. First use non-sensitive variables like education, age, hours_per_week to forecast income-band\n",
    "2. Then use sensitive variables like Sex, Native-Country, Race etc along with non-sensitive variables to check the bias\n",
    "3. Use 'feature importance' property of decision trees to see how default weightage of each feature is. "
   ]
  },
  {
   "cell_type": "code",
   "execution_count": null,
   "id": "4ee839b5-d87f-4493-bd9d-ddd49f29f2a0",
   "metadata": {},
   "outputs": [],
   "source": [
    "# Case1: Checking fairness by unawareness i.e. removing sensitive variables\n",
    "Case1 = df[['Education_num','Age','Hours_per_week']]\n",
    "\n",
    "# Case2: Checking fairness with all information including sensitive variables \n",
    "Case2 = df.drop(\"Income_band_coded\", axis=1)\n"
   ]
  },
  {
   "cell_type": "code",
   "execution_count": null,
   "id": "a66f4986-b35e-4ef1-a2ea-7e76da2c8e01",
   "metadata": {},
   "outputs": [],
   "source": []
  },
  {
   "cell_type": "code",
   "execution_count": null,
   "id": "aaa36650-bf63-443d-9970-f84f0f95f2b7",
   "metadata": {},
   "outputs": [],
   "source": []
  },
  {
   "cell_type": "code",
   "execution_count": null,
   "id": "2a359b6f-fdc7-4b47-98c0-eb9d167764ba",
   "metadata": {},
   "outputs": [],
   "source": []
  },
  {
   "cell_type": "code",
   "execution_count": null,
   "id": "4d0ba79c-d104-4019-a3a2-9521c6f1361c",
   "metadata": {},
   "outputs": [],
   "source": []
  },
  {
   "cell_type": "markdown",
   "id": "bcaa76ba-f005-49ad-83b0-b3b2fb34be76",
   "metadata": {},
   "source": [
    "### Sample Decision Trees wit multiple max_depths (2 and 5)"
   ]
  },
  {
   "cell_type": "code",
   "execution_count": null,
   "id": "35397ec0-82c7-4205-866f-b5d28a9f4fd8",
   "metadata": {},
   "outputs": [],
   "source": [
    "# Import the necessary modules and libraries\n",
    "import numpy as np\n",
    "from sklearn.tree import DecisionTreeRegressor\n",
    "import matplotlib.pyplot as plt\n",
    "\n",
    "# Create a random dataset\n",
    "rng = np.random.RandomState(1)\n",
    "X = np.sort(5 * rng.rand(80, 1), axis=0)\n",
    "y = np.sin(X).ravel()\n",
    "y[::5] += 3 * (0.5 - rng.rand(16))\n",
    "\n",
    "# Fit regression model\n",
    "regr_1 = DecisionTreeRegressor(max_depth=2, min_samples_split)\n",
    "regr_2 = DecisionTreeRegressor(max_depth=5)\n",
    "regr_1.fit(X, y)\n",
    "regr_2.fit(X, y)\n",
    "\n",
    "# Predict\n",
    "X_test = np.arange(0.0, 5.0, 0.01)[:, np.newaxis]\n",
    "y_1 = regr_1.predict(X_test)\n",
    "y_2 = regr_2.predict(X_test)\n",
    "\n",
    "# Plot the results\n",
    "plt.figure()\n",
    "plt.scatter(X, y, s=20, edgecolor=\"black\", c=\"darkorange\", label=\"data\")\n",
    "plt.plot(X_test, y_1, color=\"cornflowerblue\", label=\"max_depth=2\", linewidth=2)\n",
    "plt.plot(X_test, y_2, color=\"yellowgreen\", label=\"max_depth=5\", linewidth=2)\n",
    "plt.xlabel(\"data\")\n",
    "plt.ylabel(\"target\")\n",
    "plt.title(\"Decision Tree Regression\")\n",
    "plt.legend()\n",
    "plt.show()"
   ]
  }
 ],
 "metadata": {
  "kernelspec": {
   "display_name": "Python 3",
   "language": "python",
   "name": "python3"
  },
  "language_info": {
   "codemirror_mode": {
    "name": "ipython",
    "version": 3
   },
   "file_extension": ".py",
   "mimetype": "text/x-python",
   "name": "python",
   "nbconvert_exporter": "python",
   "pygments_lexer": "ipython3",
   "version": "3.8.8"
  },
  "widgets": {
   "application/vnd.jupyter.widget-state+json": {
    "state": {},
    "version_major": 2,
    "version_minor": 0
   }
  }
 },
 "nbformat": 4,
 "nbformat_minor": 5
}
